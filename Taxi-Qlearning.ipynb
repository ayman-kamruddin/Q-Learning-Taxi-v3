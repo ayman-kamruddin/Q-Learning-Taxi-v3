{
 "cells": [
  {
   "cell_type": "markdown",
   "id": "b37f1fcb",
   "metadata": {},
   "source": [
    "Import packages"
   ]
  },
  {
   "cell_type": "code",
   "execution_count": 1,
   "id": "c4dcc3c5",
   "metadata": {},
   "outputs": [],
   "source": [
    "import gym\n",
    "from IPython.display import clear_output\n",
    "import time\n",
    "import numpy as np\n",
    "import matplotlib.pyplot as plt"
   ]
  },
  {
   "cell_type": "markdown",
   "id": "7e153e0c",
   "metadata": {},
   "source": [
    "Create the environment"
   ]
  },
  {
   "cell_type": "code",
   "execution_count": 2,
   "id": "73f4ad8f",
   "metadata": {},
   "outputs": [],
   "source": [
    "env = gym.make('Taxi-v3')"
   ]
  },
  {
   "cell_type": "markdown",
   "id": "f7b16674",
   "metadata": {},
   "source": [
    "Set hyperparameters"
   ]
  },
  {
   "cell_type": "code",
   "execution_count": 3,
   "id": "2710d998",
   "metadata": {},
   "outputs": [],
   "source": [
    "alpha = 0.81\n",
    "gamma = 0.96\n",
    "n_episodes = 10000\n",
    "timesteps = 100\n",
    "episode = 0\n",
    "epsilon = 0.25\n",
    "max_epsilon = 1.0\n",
    "min_epsilon = 0.01\n",
    "decay_rate = 0.0005"
   ]
  },
  {
   "cell_type": "markdown",
   "id": "b976f111",
   "metadata": {},
   "source": [
    "Set parameters"
   ]
  },
  {
   "cell_type": "code",
   "execution_count": 4,
   "id": "3ead73d9",
   "metadata": {},
   "outputs": [],
   "source": [
    "n_A = env.action_space.n\n",
    "n_S = env.observation_space.n"
   ]
  },
  {
   "cell_type": "markdown",
   "id": "d75588f7",
   "metadata": {},
   "source": [
    "Initialise Q-table"
   ]
  },
  {
   "cell_type": "code",
   "execution_count": 5,
   "id": "a19db903",
   "metadata": {},
   "outputs": [],
   "source": [
    "Q_table = np.zeros((n_S, n_A))"
   ]
  },
  {
   "cell_type": "markdown",
   "id": "75e15bb8",
   "metadata": {},
   "source": [
    "Performance metrics"
   ]
  },
  {
   "cell_type": "code",
   "execution_count": 6,
   "id": "b53f589f",
   "metadata": {},
   "outputs": [],
   "source": [
    "training_episode_lengths = timesteps*np.ones(n_episodes)\n",
    "training_episode_rewards = np.zeros(n_episodes)"
   ]
  },
  {
   "cell_type": "markdown",
   "id": "2d3d18fa",
   "metadata": {},
   "source": [
    "Definition of policy"
   ]
  },
  {
   "cell_type": "code",
   "execution_count": 7,
   "id": "7d0bf639",
   "metadata": {},
   "outputs": [],
   "source": [
    "def policy(observation):\n",
    "    if np.random.rand() < epsilon:\n",
    "        action = env.action_space.sample()\n",
    "    else:\n",
    "        action = np.argmax(Q_table[observation,:])\n",
    "    return action"
   ]
  },
  {
   "cell_type": "markdown",
   "id": "4a90119d",
   "metadata": {},
   "source": [
    "Training loop"
   ]
  },
  {
   "cell_type": "code",
   "execution_count": 8,
   "id": "03bd20a7",
   "metadata": {},
   "outputs": [],
   "source": [
    "for i_episode in range(n_episodes): #loop for each episode\n",
    "    observation = env.reset() #initialise S\n",
    "    episode_reward = 0\n",
    "    for t in range(timesteps): #loop for each step of episode\n",
    "        \n",
    "        #time.sleep(.1)\n",
    "        #clear_output(wait=True)\n",
    "        #print(\"Episode: \", i_episode+1)\n",
    "        #env.render()\n",
    "        \n",
    "        action = policy(observation) #choose A from S using epsilon-greedy policy derived from Q-table\n",
    "        next_observation, reward, done, info = env.step(action) #take action A, observe R, S'\n",
    "        episode_reward+= reward\n",
    "        if done:\n",
    "            #print(\"Episode {} finished after {} timesteps\".format(i_episode+1,t+1))\n",
    "            training_episode_lengths[i_episode] = t+1\n",
    "            break\n",
    "        Q_table[observation, action] = Q_table[observation, action] + alpha * (reward + gamma * max(Q_table[next_observation,:]) - Q_table[observation, action])#Q-learning update rule\n",
    "        observation = next_observation\n",
    "    training_episode_rewards[i_episode] = episode_reward\n",
    "    episode+=1\n",
    "    epsilon = min_epsilon + (max_epsilon - min_epsilon) *np.exp(-decay_rate*episode) # Reduce epsilon per episode (because we need less and less exploration)\n",
    "env.close()"
   ]
  },
  {
   "cell_type": "markdown",
   "id": "7f01bc41",
   "metadata": {},
   "source": [
    "Plot rewards"
   ]
  },
  {
   "cell_type": "code",
   "execution_count": null,
   "id": "d5bef87c",
   "metadata": {},
   "outputs": [],
   "source": [
    "plt.plot(training_episode_rewards, '.', markersize=.5)\n",
    "plt.ylabel('reward')\n",
    "plt.xlabel('episode')\n",
    "fig = plt.gcf()\n",
    "fig.set_size_inches(18.5, 10.5)\n",
    "plt.axhline(y=20, color = 'r')\n",
    "plt.axhline(y=0, color = 'y')"
   ]
  },
  {
   "cell_type": "markdown",
   "id": "f6cd55eb",
   "metadata": {},
   "source": [
    "Plot episode lengths"
   ]
  },
  {
   "cell_type": "code",
   "execution_count": null,
   "id": "0b93ffe2",
   "metadata": {},
   "outputs": [],
   "source": [
    "plt.plot(training_episode_lengths, '.', markersize = .5)\n",
    "plt.ylabel('episode length [timesteps]')\n",
    "plt.xlabel('episode')\n",
    "fig = plt.gcf()\n",
    "fig.set_size_inches(18.5, 10.5)"
   ]
  },
  {
   "cell_type": "markdown",
   "id": "dc7fe725",
   "metadata": {},
   "source": [
    "Use the generated Q-table to play game"
   ]
  },
  {
   "cell_type": "code",
   "execution_count": null,
   "id": "6fc009e0",
   "metadata": {},
   "outputs": [],
   "source": [
    "n_episodes_test = 20\n",
    "test_episode_lengths = timesteps*np.ones(n_episodes_test)\n",
    "test_episode_rewards = []"
   ]
  },
  {
   "cell_type": "code",
   "execution_count": null,
   "id": "d872a6be",
   "metadata": {},
   "outputs": [],
   "source": [
    "for i_episode in range (n_episodes_test):\n",
    "    observation = env.reset()\n",
    "    time.sleep(1)\n",
    "    episode_reward = 0\n",
    "    for t in range (timesteps):\n",
    "        time.sleep(.1)\n",
    "        clear_output(wait=True)\n",
    "        print(\"Episode: \", i_episode+1)\n",
    "        env.render()\n",
    "        action = np.argmax(Q_table[observation,:])\n",
    "        observation, reward, done, info = env.step(action)\n",
    "        episode_reward+=reward\n",
    "        if done:\n",
    "            test_episode_lengths[i_episode] = t+1\n",
    "            test_episode_rewards.append(episode_reward)\n",
    "            break\n",
    "        if t+1 == timesteps:\n",
    "            test_episode_rewards[i_episode] = episode_reward\n",
    "env.close()\n",
    "        \n",
    "        "
   ]
  },
  {
   "cell_type": "markdown",
   "id": "9d434e71",
   "metadata": {},
   "source": [
    "Look at trained run rewards"
   ]
  },
  {
   "cell_type": "code",
   "execution_count": null,
   "id": "b189a6fe",
   "metadata": {},
   "outputs": [],
   "source": [
    "plt.plot(test_episode_rewards, '.')\n",
    "plt.ylabel('reward')\n",
    "plt.xlabel('episode')\n",
    "fig = plt.gcf()\n",
    "fig.set_size_inches(18.5, 10.5)\n",
    "plt.axhline(y=20, color = 'r')\n",
    "plt.axhline(y=0, color = 'y')"
   ]
  },
  {
   "cell_type": "markdown",
   "id": "598edda9",
   "metadata": {},
   "source": [
    "Look at trained run episode lengths"
   ]
  },
  {
   "cell_type": "code",
   "execution_count": null,
   "id": "f7fcefb4",
   "metadata": {},
   "outputs": [],
   "source": [
    "plt.plot(test_episode_lengths, '.')\n",
    "plt.ylabel('episode length [timesteps]')\n",
    "plt.xlabel('episode')\n",
    "fig = plt.gcf()\n",
    "fig.set_size_inches(18.5, 10.5)"
   ]
  },
  {
   "cell_type": "code",
   "execution_count": null,
   "id": "70595109",
   "metadata": {},
   "outputs": [],
   "source": []
  }
 ],
 "metadata": {
  "kernelspec": {
   "display_name": "Python 3 (ipykernel)",
   "language": "python",
   "name": "python3"
  },
  "language_info": {
   "codemirror_mode": {
    "name": "ipython",
    "version": 3
   },
   "file_extension": ".py",
   "mimetype": "text/x-python",
   "name": "python",
   "nbconvert_exporter": "python",
   "pygments_lexer": "ipython3",
   "version": "3.8.5"
  }
 },
 "nbformat": 4,
 "nbformat_minor": 5
}
